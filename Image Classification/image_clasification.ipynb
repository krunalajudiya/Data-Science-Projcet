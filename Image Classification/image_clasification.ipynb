{
 "cells": [
  {
   "cell_type": "code",
   "execution_count": 1,
   "id": "736bbdea",
   "metadata": {},
   "outputs": [],
   "source": [
    "import tensorflow as tf\n",
    "import numpy as np\n",
    "from tensorflow.keras import datasets, layers, models\n",
    "import matplotlib.pyplot as plt\n",
    "from PIL import Image\n",
    "import cv2\n",
    "\n",
    "# import ssl\n",
    "# ssl._create_default_https_context = ssl._create_unverified_context"
   ]
  },
  {
   "cell_type": "code",
   "execution_count": 2,
   "id": "098baca8",
   "metadata": {},
   "outputs": [],
   "source": [
    "(x_train,y_train),(x_test,y_test)=datasets.cifar10.load_data()"
   ]
  },
  {
   "cell_type": "code",
   "execution_count": 3,
   "id": "26effef2",
   "metadata": {},
   "outputs": [
    {
     "data": {
      "text/plain": [
       "(50000, 1)"
      ]
     },
     "execution_count": 3,
     "metadata": {},
     "output_type": "execute_result"
    }
   ],
   "source": [
    "y_train.shape"
   ]
  },
  {
   "cell_type": "code",
   "execution_count": 4,
   "id": "cce948ec",
   "metadata": {},
   "outputs": [
    {
     "data": {
      "text/plain": [
       "<matplotlib.image.AxesImage at 0x14356abc788>"
      ]
     },
     "execution_count": 4,
     "metadata": {},
     "output_type": "execute_result"
    },
    {
     "data": {
      "image/png": "[encoded data removed]",
      "text/plain": [
       "<Figure size 432x288 with 1 Axes>"
      ]
     },
     "metadata": {
      "needs_background": "light"
     },
     "output_type": "display_data"
    }
   ],
   "source": [
    "plt.imshow(x_train[1])"
   ]
  },
  {
   "cell_type": "code",
   "execution_count": 5,
   "id": "4038061b",
   "metadata": {},
   "outputs": [
    {
     "data": {
      "text/plain": [
       "array([6, 9, 9, 4, 1], dtype=uint8)"
      ]
     },
     "execution_count": 5,
     "metadata": {},
     "output_type": "execute_result"
    }
   ],
   "source": [
    "y_train=y_train.reshape(-1,)\n",
    "y_train[:5]"
   ]
  },
  {
   "cell_type": "code",
   "execution_count": 6,
   "id": "a377522a",
   "metadata": {},
   "outputs": [],
   "source": [
    "classes=[\"airplane\",\"automobile\",\"bird\",\"cat\",\"deer\",\"dog\",\"frog\",\"horse\",\"ship\",\"truck\"]"
   ]
  },
  {
   "cell_type": "code",
   "execution_count": 7,
   "id": "b9fdf004",
   "metadata": {},
   "outputs": [],
   "source": [
    "def plot_sample(x,y,index):\n",
    "    plt.imshow(x[index])\n",
    "    plt.xlabel(classes[y[index]])\n",
    "\n",
    "def plot_result(x,y,index,title_str):\n",
    "    plt.title(title_str)\n",
    "    plt.imshow(x[index])\n",
    "    plt.xlabel(classes[y[index]])"
   ]
  },
  {
   "cell_type": "code",
   "execution_count": 8,
   "id": "0f020319",
   "metadata": {},
   "outputs": [
    {
     "data": {
      "image/png": "[encoded data removed]",
      "text/plain": [
       "<Figure size 432x288 with 1 Axes>"
      ]
     },
     "metadata": {
      "needs_background": "light"
     },
     "output_type": "display_data"
    }
   ],
   "source": [
    "plot_sample(x_train,y_train,4)"
   ]
  },
  {
   "cell_type": "code",
   "execution_count": 9,
   "id": "caba047f",
   "metadata": {},
   "outputs": [],
   "source": [
    "x_train=x_train/255\n",
    "x_test=x_test/255"
   ]
  },
  {
   "cell_type": "code",
   "execution_count": 10,
   "id": "207a887b",
   "metadata": {},
   "outputs": [],
   "source": [
    "cnn = models.Sequential([\n",
    "    layers.Conv2D(filters=32, kernel_size=(3, 3), activation='relu', input_shape=(32, 32, 3)),\n",
    "    layers.MaxPooling2D((2, 2)),\n",
    "    \n",
    "    layers.Conv2D(filters=64, kernel_size=(3, 3), activation='relu'),\n",
    "    layers.MaxPooling2D((2, 2)),\n",
    "    \n",
    "    layers.Flatten(),\n",
    "    layers.Dense(64, activation='relu'),\n",
    "    layers.Dense(10, activation='softmax')\n",
    "])"
   ]
  },
  {
   "cell_type": "code",
   "execution_count": 11,
   "id": "05075a21",
   "metadata": {},
   "outputs": [],
   "source": [
    "cnn.compile(optimizer='adam',\n",
    "              loss='sparse_categorical_crossentropy',\n",
    "              metrics=['accuracy'])"
   ]
  },
  {
   "cell_type": "code",
   "execution_count": 12,
   "id": "f3a5cca2",
   "metadata": {},
   "outputs": [
    {
     "name": "stdout",
     "output_type": "stream",
     "text": [
      "Train on 50000 samples\n",
      "Epoch 1/10\n",
      "50000/50000 [==============================] - 102s 2ms/sample - loss: 1.5286 - accuracy: 0.4450\n",
      "Epoch 2/10\n",
      "50000/50000 [==============================] - 98s 2ms/sample - loss: 1.1747 - accuracy: 0.5866\n",
      "Epoch 3/10\n",
      "50000/50000 [==============================] - 97s 2ms/sample - loss: 1.0456 - accuracy: 0.6351\n",
      "Epoch 4/10\n",
      "50000/50000 [==============================] - 98s 2ms/sample - loss: 0.9574 - accuracy: 0.6673\n",
      "Epoch 5/10\n",
      "50000/50000 [==============================] - 86s 2ms/sample - loss: 0.8931 - accuracy: 0.6910\n",
      "Epoch 6/10\n",
      "50000/50000 [==============================] - 53s 1ms/sample - loss: 0.8337 - accuracy: 0.7105\n",
      "Epoch 7/10\n",
      "50000/50000 [==============================] - 51s 1ms/sample - loss: 0.7905 - accuracy: 0.7271\n",
      "Epoch 8/10\n",
      "50000/50000 [==============================] - 50s 1000us/sample - loss: 0.7518 - accuracy: 0.7385\n",
      "Epoch 9/10\n",
      "50000/50000 [==============================] - 53s 1ms/sample - loss: 0.7159 - accuracy: 0.7498\n",
      "Epoch 10/10\n",
      "50000/50000 [==============================] - 55s 1ms/sample - loss: 0.6863 - accuracy: 0.7607\n"
     ]
    },
    {
     "data": {
      "text/plain": [
       "<tensorflow.python.keras.callbacks.History at 0x14357569a08>"
      ]
     },
     "execution_count": 12,
     "metadata": {},
     "output_type": "execute_result"
    }
   ],
   "source": [
    "cnn.fit(x_train,y_train,epochs=10)"
   ]
  },
  {
   "cell_type": "code",
   "execution_count": 13,
   "id": "4c0c114d",
   "metadata": {},
   "outputs": [
    {
     "name": "stdout",
     "output_type": "stream",
     "text": [
      "10000/10000 [==============================] - 3s 348us/sample - loss: 0.8811 - accuracy: 0.6997\n"
     ]
    },
    {
     "data": {
      "text/plain": [
       "[0.8811186638832093, 0.6997]"
      ]
     },
     "execution_count": 13,
     "metadata": {},
     "output_type": "execute_result"
    }
   ],
   "source": [
    "cnn.evaluate(x_test,y_test)"
   ]
  },
  {
   "cell_type": "code",
   "execution_count": 14,
   "id": "c2dc64fe",
   "metadata": {},
   "outputs": [
    {
     "data": {
      "text/plain": [
       "array([[8.59928690e-03, 3.49777122e-03, 7.69372843e-03, 8.60799730e-01,\n",
       "        5.06941520e-04, 4.97712269e-02, 2.17481423e-02, 2.88516876e-05,\n",
       "        4.23623286e-02, 4.99188527e-03],\n",
       "       [3.10126995e-03, 2.25624666e-02, 2.20674633e-06, 3.06720176e-06,\n",
       "        7.49862679e-08, 5.21364107e-08, 2.58179516e-05, 6.74702960e-08,\n",
       "        9.74247932e-01, 5.70573502e-05],\n",
       "       [4.21452895e-02, 1.23246625e-01, 3.38694453e-03, 4.40054107e-03,\n",
       "        2.82141636e-03, 2.86338705e-04, 8.20777146e-04, 2.32210453e-03,\n",
       "        7.04883754e-01, 1.15686238e-01],\n",
       "       [8.16601694e-01, 3.06565152e-03, 1.16364611e-02, 1.61970104e-03,\n",
       "        1.17358274e-03, 4.36989903e-05, 5.10759710e-04, 1.15663599e-04,\n",
       "        1.65187940e-01, 4.47226084e-05],\n",
       "       [9.17252748e-07, 5.80392043e-06, 2.05786191e-02, 6.11178316e-02,\n",
       "        5.46528637e-01, 4.91498038e-03, 3.66837978e-01, 2.73762748e-06,\n",
       "        1.17656955e-05, 7.28621671e-07]], dtype=float32)"
      ]
     },
     "execution_count": 14,
     "metadata": {},
     "output_type": "execute_result"
    }
   ],
   "source": [
    "y_pred = cnn.predict(x_test)\n",
    "y_pred[:5]"
   ]
  },
  {
   "cell_type": "code",
   "execution_count": 15,
   "id": "c4262b2c",
   "metadata": {},
   "outputs": [
    {
     "data": {
      "text/plain": [
       "[3, 8, 8, 0, 4, 6, 1, 6, 3, 1]"
      ]
     },
     "execution_count": 15,
     "metadata": {},
     "output_type": "execute_result"
    }
   ],
   "source": [
    "y_classes = [np.argmax(element) for element in y_pred]\n",
    "y_classes[:10]"
   ]
  },
  {
   "cell_type": "code",
   "execution_count": 16,
   "id": "6b122224",
   "metadata": {},
   "outputs": [
    {
     "data": {
      "text/plain": [
       "array([[3],\n",
       "       [8],\n",
       "       [8],\n",
       "       [0],\n",
       "       [6],\n",
       "       [6],\n",
       "       [1],\n",
       "       [6],\n",
       "       [3],\n",
       "       [1]], dtype=uint8)"
      ]
     },
     "execution_count": 16,
     "metadata": {},
     "output_type": "execute_result"
    }
   ],
   "source": [
    "y_test[:10]"
   ]
  },
  {
   "cell_type": "code",
   "execution_count": 17,
   "id": "0b2e4377",
   "metadata": {},
   "outputs": [],
   "source": [
    "y_test=y_test.reshape(-1,)"
   ]
  },
  {
   "cell_type": "code",
   "execution_count": 18,
   "id": "8b93f052",
   "metadata": {},
   "outputs": [
    {
     "name": "stdout",
     "output_type": "stream",
     "text": [
      "actual value: 3\n",
      "predicted value: 3\n",
      "position: 0\n"
     ]
    }
   ],
   "source": [
    "actual_value1=0\n",
    "predicted_value1=0\n",
    "for i in range(0,len(y_test)):\n",
    "    if(y_classes[i]==y_test[i]):\n",
    "        actual_value1=y_test[i]\n",
    "        predicted_value1=y_classes[i]\n",
    "        print(\"actual value: \"+str(y_test[i]))\n",
    "        print(\"predicted value: \"+str(y_classes[i]))\n",
    "        print(\"position: \"+str(i))\n",
    "        break"
   ]
  },
  {
   "cell_type": "code",
   "execution_count": 19,
   "id": "3e9da432",
   "metadata": {},
   "outputs": [
    {
     "data": {
      "image/png": "[encoded data removed]",
      "text/plain": [
       "<Figure size 432x288 with 1 Axes>"
      ]
     },
     "metadata": {
      "needs_background": "light"
     },
     "output_type": "display_data"
    }
   ],
   "source": [
    "plot_result(x_test,y_test,actual_value1,\"Actual Value\")"
   ]
  },
  {
   "cell_type": "code",
   "execution_count": 20,
   "id": "5c26dca1",
   "metadata": {},
   "outputs": [
    {
     "data": {
      "image/png": "[encoded data removed]",
      "text/plain": [
       "<Figure size 432x288 with 1 Axes>"
      ]
     },
     "metadata": {
      "needs_background": "light"
     },
     "output_type": "display_data"
    }
   ],
   "source": [
    "plot_result(x_test,y_test,actual_value1,\"Predicted Value\")"
   ]
  },
  {
   "cell_type": "code",
   "execution_count": 21,
   "id": "b4a6280e",
   "metadata": {},
   "outputs": [
    {
     "name": "stdout",
     "output_type": "stream",
     "text": [
      "actual value: 6\n",
      "predicted value: 4\n",
      "position: 4\n"
     ]
    }
   ],
   "source": [
    "actual_value2=0\n",
    "predicted_value2=0\n",
    "for i in range(0,len(y_test)):\n",
    "    if(y_classes[i]!=y_test[i]):\n",
    "        actual_value2=y_test[i]\n",
    "        predicted_value2=y_classes[i]\n",
    "        print(\"actual value: \"+str(y_test[i]))\n",
    "        print(\"predicted value: \"+str(y_classes[i]))\n",
    "        print(\"position: \"+str(i))\n",
    "        break"
   ]
  },
  {
   "cell_type": "code",
   "execution_count": 22,
   "id": "3eb4a012",
   "metadata": {},
   "outputs": [
    {
     "data": {
      "image/png": "[encoded data removed]",
      "text/plain": [
       "<Figure size 432x288 with 1 Axes>"
      ]
     },
     "metadata": {
      "needs_background": "light"
     },
     "output_type": "display_data"
    }
   ],
   "source": [
    "plot_result(x_test,y_test,actual_value2,\"Actual Value\")"
   ]
  },
  {
   "cell_type": "code",
   "execution_count": 23,
   "id": "be23d3eb",
   "metadata": {},
   "outputs": [
    {
     "data": {
      "image/png": "[encoded data removed]",
      "text/plain": [
       "<Figure size 432x288 with 1 Axes>"
      ]
     },
     "metadata": {
      "needs_background": "light"
     },
     "output_type": "display_data"
    }
   ],
   "source": [
    "plot_result(x_test,y_test,predicted_value2,\"Predicted Value\")"
   ]
  },
  {
   "cell_type": "code",
   "execution_count": 24,
   "id": "5ae76feb",
   "metadata": {},
   "outputs": [
    {
     "data": {
      "text/plain": [
       "(32, 32, 3)"
      ]
     },
     "execution_count": 24,
     "metadata": {},
     "output_type": "execute_result"
    }
   ],
   "source": [
    "image_read=cv2.imread(\"F:/DataSet/image/Webp.net-resizeimage.png\")/255;\n",
    "image_read.shape\n",
    "# image_read"
   ]
  },
  {
   "cell_type": "code",
   "execution_count": 25,
   "id": "00aaa752",
   "metadata": {},
   "outputs": [
    {
     "data": {
      "text/plain": [
       "<matplotlib.image.AxesImage at 0x14359cf7188>"
      ]
     },
     "execution_count": 25,
     "metadata": {},
     "output_type": "execute_result"
    },
    {
     "data": {
      "image/png": "[encoded data removed]",
      "text/plain": [
       "<Figure size 432x288 with 1 Axes>"
      ]
     },
     "metadata": {
      "needs_background": "light"
     },
     "output_type": "display_data"
    }
   ],
   "source": [
    "\n",
    "image_read=image_read.reshape(1,32,32,3)\n",
    "plt.imshow(image_read[0])"
   ]
  },
  {
   "cell_type": "code",
   "execution_count": 26,
   "id": "e3d42b30",
   "metadata": {},
   "outputs": [],
   "source": [
    "y_p=cnn.predict(image_read)"
   ]
  },
  {
   "cell_type": "code",
   "execution_count": 27,
   "id": "45d9d931",
   "metadata": {},
   "outputs": [
    {
     "data": {
      "text/plain": [
       "array([[1.6767891e-02, 3.1007193e-02, 1.0948128e-04, 5.2241358e-04,\n",
       "        3.6887457e-05, 3.5748403e-06, 1.3667481e-03, 7.2931434e-05,\n",
       "        9.1579270e-01, 3.4320176e-02]], dtype=float32)"
      ]
     },
     "execution_count": 27,
     "metadata": {},
     "output_type": "execute_result"
    }
   ],
   "source": [
    "y_p"
   ]
  },
  {
   "cell_type": "code",
   "execution_count": 28,
   "id": "bca3913f",
   "metadata": {},
   "outputs": [
    {
     "data": {
      "text/plain": [
       "[8]"
      ]
     },
     "execution_count": 28,
     "metadata": {},
     "output_type": "execute_result"
    }
   ],
   "source": [
    "a = [np.argmax(element) for element in y_p]\n",
    "a"
   ]
  },
  {
   "cell_type": "code",
   "execution_count": 29,
   "id": "6a4bbd06",
   "metadata": {},
   "outputs": [
    {
     "data": {
      "text/plain": [
       "'ship'"
      ]
     },
     "execution_count": 29,
     "metadata": {},
     "output_type": "execute_result"
    }
   ],
   "source": [
    "classes[8]"
   ]
  },
  {
   "cell_type": "code",
   "execution_count": null,
   "id": "12df7d07",
   "metadata": {},
   "outputs": [],
   "source": []
  }
 ],
 "metadata": {
  "kernelspec": {
   "display_name": "Python 3 (ipykernel)",
   "language": "python",
   "name": "python3"
  },
  "language_info": {
   "codemirror_mode": {
    "name": "ipython",
    "version": 3
   },
   "file_extension": ".py",
   "mimetype": "text/x-python",
   "name": "python",
   "nbconvert_exporter": "python",
   "pygments_lexer": "ipython3",
   "version": "3.7.11"
  }
 },
 "nbformat": 4,
 "nbformat_minor": 5
}
